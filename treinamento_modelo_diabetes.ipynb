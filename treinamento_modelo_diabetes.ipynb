
{
 "cells": [
  {
   "cell_type": "markdown",
   "metadata": {},
   "source": [
    "# Treinamento do Modelo - Projeto Diabetes"
   ]
  },
  {
   "cell_type": "code",
   "execution_count": null,
   "metadata": {},
   "outputs": [],
   "source": [
    "import pandas as pd
",
    "import joblib
",
    "from sklearn.preprocessing import LabelEncoder
",
    "from sklearn.model_selection import train_test_split
",
    "from xgboost import XGBClassifier"
   ]
  },
  {
   "cell_type": "code",
   "execution_count": null,
   "metadata": {},
   "outputs": [],
   "source": [
    "# Carregar o dataset
",
    "url = "https://raw.githubusercontent.com/atlantico-academy/datasets/refs/heads/main/diabetes.csv"
",
    "diabetes = pd.read_csv(url)
",
    "diabetes.head()"
   ]
  },
  {
   "cell_type": "code",
   "execution_count": null,
   "metadata": {},
   "outputs": [],
   "source": [
    "# Aplicar LabelEncoder nas variáveis categóricas
",
    "le_gender = LabelEncoder()
",
    "diabetes['gender'] = le_gender.fit_transform(diabetes['gender'])
",
    "joblib.dump(le_gender, 'le_gender.pkl')
",
    "
",
    "le_smoking = LabelEncoder()
",
    "diabetes['smoking_history'] = le_smoking.fit_transform(diabetes['smoking_history'])
",
    "joblib.dump(le_smoking, 'le_smoking.pkl')"
   ]
  },
  {
   "cell_type": "code",
   "execution_count": null,
   "metadata": {},
   "outputs": [],
   "source": [
    "# Separar variáveis preditoras e alvo
",
    "X = diabetes.drop('diabetes', axis=1)
",
    "y = diabetes['diabetes']
",
    "joblib.dump(X.columns.tolist(), 'feature_columns.pkl')"
   ]
  },
  {
   "cell_type": "code",
   "execution_count": null,
   "metadata": {},
   "outputs": [],
   "source": [
    "# Treinar o modelo XGBoost
",
    "X_train, X_test, y_train, y_test = train_test_split(X, y, stratify=y, test_size=0.3, random_state=42)
",
    "modelo = XGBClassifier(use_label_encoder=False, eval_metric='logloss')
",
    "modelo.fit(X_train, y_train)
",
    "
",
    "# Salvar o modelo treinado
",
    "joblib.dump(modelo, 'modelo_final.pkl')"
   ]
  }
 ],
 "metadata": {
  "kernelspec": {
   "display_name": "Python 3",
   "language": "python",
   "name": "python3"
  },
  "language_info": {
   "name": "python",
   "version": ""
  }
 },
 "nbformat": 4,
 "nbformat_minor": 5
}
